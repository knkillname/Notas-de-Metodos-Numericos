{
 "cells": [
  {
   "cell_type": "code",
   "execution_count": 1,
   "id": "be1e674b-c280-42be-b265-6a1436f3ed43",
   "metadata": {},
   "outputs": [],
   "source": [
    "import matplotlib.pyplot as plt\n",
    "import numpy as np\n",
    "import pandas as pd\n"
   ]
  },
  {
   "cell_type": "markdown",
   "id": "49cd1219-6930-4ab0-a49c-b21516e87747",
   "metadata": {},
   "source": [
    "# 2. Ecuaciones no lineales\n",
    "\n",
    "En esta sección abordamos el problema de encontrar un *cero* de una función \n",
    "real $f$, es decir un $x^*$ tal que $f(x^*) = 0$."
   ]
  },
  {
   "cell_type": "markdown",
   "id": "ac6e80b0-a606-4203-b1aa-2fd65fa11b94",
   "metadata": {},
   "source": [
    "## Graficación"
   ]
  },
  {
   "cell_type": "markdown",
   "id": "dc8829cd-3cf0-47bf-a4cb-b03a1c5f2491",
   "metadata": {},
   "source": [
    "Para graficar una función $f:\\mathbb{R} \\to \\mathbb{R}$ en un intervalo $[a, b]$\n",
    "tomamos una sucesión de $n + 1$ puntos uniformemente distanciados:\n",
    "$$a = x_0, x_0 + h, x_0 + 2\\,h + x_0 + 3\\,h, \\ldots, x_0 + n\\,h = b$$"
   ]
  },
  {
   "cell_type": "markdown",
   "id": "41191fb2-02a3-4337-b5b7-c266a09f9702",
   "metadata": {},
   "source": [
    "`linspace(a, b, n)` de numpy genera esta lista de $n$ puntos en el intervalo $[a, b]$ a una distancia $h = \\frac{b - a}{n - 1}$:"
   ]
  },
  {
   "cell_type": "code",
   "execution_count": 2,
   "id": "36e72e7a-17a8-4a01-8715-8487f3d3de31",
   "metadata": {},
   "outputs": [
    {
     "name": "stdout",
     "output_type": "stream",
     "text": [
      "[1.  1.1 1.2 1.3 1.4 1.5 1.6 1.7 1.8 1.9 2. ]\n"
     ]
    }
   ],
   "source": [
    "x = np.linspace(1, 2, 11)\n",
    "print(x)"
   ]
  },
  {
   "cell_type": "markdown",
   "id": "49eb42f8",
   "metadata": {},
   "source": [
    "Los arreglos de numpy no son listas de Python usuales:\n",
    "- Ocupan menos espacio en memoria\n",
    "- Están orientados al álgebra lineal numérica, representando vectores, matrices, etc.\n",
    "- Sus métodos están orientados a trabajar de forma paralela en cada elemento de manera\n",
    "  tan extremadamente eficiente que no cualquier programador puede igualarle."
   ]
  },
  {
   "cell_type": "code",
   "execution_count": 3,
   "id": "3cb7a052-b2fd-43ed-b23e-d48b4be2314f",
   "metadata": {},
   "outputs": [
    {
     "name": "stdout",
     "output_type": "stream",
     "text": [
      "[-1.   -0.79 -0.56 -0.31 -0.04  0.25  0.56  0.89  1.24  1.61  2.  ]\n"
     ]
    }
   ],
   "source": [
    "# Los vectores de numpy admiten operaciones elemento-a-elemento:\n",
    "y = x**2 - 2  # Eleva cada entrada al cuadrado y le resta 2\n",
    "print(y)"
   ]
  },
  {
   "cell_type": "code",
   "execution_count": 4,
   "id": "ae4c71f4-2510-4a12-8b7c-ba9ddc695618",
   "metadata": {},
   "outputs": [
    {
     "data": {
      "text/plain": [
       "[<matplotlib.lines.Line2D at 0x7f3086893070>]"
      ]
     },
     "execution_count": 4,
     "metadata": {},
     "output_type": "execute_result"
    },
    {
     "data": {
      "image/png": "[encoded data removed]",
      "text/plain": [
       "<Figure size 432x288 with 1 Axes>"
      ]
     },
     "metadata": {
      "needs_background": "light"
     },
     "output_type": "display_data"
    }
   ],
   "source": [
    "# Graficar las coordenadas x-y trazando líneas entre los puntos sucesivos:\n",
    "plt.plot(x, y)"
   ]
  },
  {
   "cell_type": "markdown",
   "id": "d09d2a2d-47c2-437b-8c68-023233a5d53a",
   "metadata": {},
   "source": [
    "## Método de la bisección\n",
    "Si $f$ es contínua en $[a, b]$ y $a$ y $b$ tienen tienen signos opuestos entonces $f$\n",
    "cruza por $y = 0$ en algún $x \\in (a, b)$.\n",
    "\n",
    "**Definción** Un *corchete* $[a, b]$ para una función $f:\\mathbb{R} \\to \\mathbb{R}$ es un intervalo tal que $f(a)\\,f(b) < 0$.\n",
    "\n",
    "**Ejemplo** $[1, 2]$ es un corchete de $f(x) = x^2 - 2$, puesto que $f(1) = -1$ y $f(2) = 2$."
   ]
  },
  {
   "cell_type": "code",
   "execution_count": 5,
   "id": "3b757c08",
   "metadata": {},
   "outputs": [
    {
     "data": {
      "image/png": "[encoded data removed]",
      "text/plain": [
       "<Figure size 432x288 with 1 Axes>"
      ]
     },
     "metadata": {
      "needs_background": "light"
     },
     "output_type": "display_data"
    }
   ],
   "source": [
    "fig, ax = plt.subplots()\n",
    "ax.spines[[\"bottom\"]].set_position((\"data\", 0))\n",
    "ax.spines[[\"top\", \"right\"]].set_visible(False)\n",
    "x = np.linspace(1, 2)\n",
    "y = x**2 - 2\n",
    "ax.plot(x, y, label=\"$y = x^2 - 2$\")\n",
    "x = np.array([1, 2, (1+2)/2])\n",
    "y = x**2 - 2\n",
    "ax.plot(x, y, 'o')\n",
    "ax.legend()\n",
    "fig.tight_layout()\n"
   ]
  },
  {
   "cell_type": "markdown",
   "id": "13fd00bb",
   "metadata": {},
   "source": [
    "Si $[a, b]$ es un corchete de $f$ entonces $m = (a + b)/2$ es una \n",
    "aproximación de dónde esperamos que se encuentre el cero de $f$.\n",
    "En el improbable caso de que $m$ sea un cero de $f$ no hay nada más que hacer,\n",
    "pero en caso contrario o bien $[a, m]$ es un corchete de $f$, o bien $[m, b]$\n",
    "lo es.\n",
    "En cualquier caso estos dos corchetes tienen la mitad de la longitud que el\n",
    "original y podemos repetir el procedimiento hasta que el intervalo sea tan\n",
    "pequeño como queramos.\n",
    "Este es el *método de la bisección*."
   ]
  },
  {
   "cell_type": "code",
   "execution_count": 6,
   "id": "b3c87a77-002e-448f-bc12-d0443e719add",
   "metadata": {},
   "outputs": [
    {
     "data": {
      "text/plain": [
       "[1,\n",
       " 2,\n",
       " 1.5,\n",
       " 1.25,\n",
       " 1.375,\n",
       " 1.4375,\n",
       " 1.40625,\n",
       " 1.421875,\n",
       " 1.4140625,\n",
       " 1.41796875,\n",
       " 1.416015625,\n",
       " 1.4150390625,\n",
       " 1.41455078125,\n",
       " 1.414306640625,\n",
       " 1.4141845703125,\n",
       " 1.41424560546875]"
      ]
     },
     "execution_count": 6,
     "metadata": {},
     "output_type": "execute_result"
    }
   ],
   "source": [
    "def biseccion(f, a, b, ε):\n",
    "    x = [a, b]\n",
    "    while b - a > ε:\n",
    "        m = (a + b) / 2\n",
    "        x.append(m)\n",
    "        if f(a) * f(m) < 0:\n",
    "            b = m\n",
    "        else:\n",
    "            a = m\n",
    "    return x\n",
    "\n",
    "\n",
    "def f(x):\n",
    "    return x ** 2 - 2\n",
    "\n",
    "\n",
    "biseccion(f, 1, 2, 10 ** -4)\n"
   ]
  },
  {
   "cell_type": "code",
   "execution_count": 7,
   "id": "c5b45301",
   "metadata": {},
   "outputs": [
    {
     "data": {
      "text/plain": [
       "[0,\n",
       " 1,\n",
       " 0.5,\n",
       " 0.75,\n",
       " 0.625,\n",
       " 0.6875,\n",
       " 0.71875,\n",
       " 0.734375,\n",
       " 0.7421875,\n",
       " 0.73828125,\n",
       " 0.740234375,\n",
       " 0.7392578125,\n",
       " 0.73876953125,\n",
       " 0.739013671875,\n",
       " 0.7391357421875,\n",
       " 0.73907470703125]"
      ]
     },
     "execution_count": 7,
     "metadata": {},
     "output_type": "execute_result"
    }
   ],
   "source": [
    "import math\n",
    "def g(x):\n",
    "    return math.cos(x) - x\n",
    "\n",
    "biseccion(g, 0, 1, 10**-4)\n"
   ]
  },
  {
   "cell_type": "markdown",
   "id": "52940db8",
   "metadata": {},
   "source": [
    "Si el intervalo inicial tiene una longitud 1, el siguiente intervalo tendrá\n",
    "longitud $1/2$, y el siguiente $1/4$ y así sucesivamente el $n$-ésimo\n",
    "tendía longitud $1/2^n$.\n",
    "Así, si queremos tener 4 dígitos de precisión deberemos realizar al menos 14\n",
    "iteraciones, ya que:\n",
    "$$\\begin{align}\n",
    "\\frac{1}{2^n} &< 10^{-4}\\\\\n",
    "2^n &\\ge 10^{4}\\\\\n",
    "n &\\ge \\log_2(10^{4})\\\\\n",
    "&> 13.28\\\\\n",
    "\\end{align}$$\n"
   ]
  },
  {
   "cell_type": "markdown",
   "id": "feb901a4",
   "metadata": {},
   "source": [
    "## Método de la posición falsa\n",
    "\n",
    "En el método de la bisección usa $x_2 = \\frac{x_0 + x_1}{2}$ como la estimación del\n",
    "cero en el corchete $[x_0, x_1]$, sin embargo una mejor estimación consiste en\n",
    "aproximar $f$ como la línea que pasa por $(x_0, y_0)$ y $(x_1, y_1)$.\n",
    "La ecuación de dicha recta es\n",
    "$$(y-y_0)\\,(x_1-x_0)=(y_1-y_0)\\,(x-x_0)\\text{.}$$\n",
    "\n",
    "Como queremos aproximar un 0 de $f$ que a su vez está aproximada por esta recta,\n",
    "sustituimos $y=0$ y despejamos $x$ para obtener el punto donde la recta se\n",
    "interseca con el eje $x$:\n",
    "$$x = x_0-y_0\\,\\frac{x_1-x_0}{y_1-y_0}\\text{.}$$"
   ]
  },
  {
   "cell_type": "code",
   "execution_count": 8,
   "id": "8df8137a",
   "metadata": {},
   "outputs": [
    {
     "data": {
      "image/png": "[encoded data removed]",
      "text/plain": [
       "<Figure size 432x288 with 1 Axes>"
      ]
     },
     "metadata": {
      "needs_background": "light"
     },
     "output_type": "display_data"
    }
   ],
   "source": [
    "# Definir la función a la que vamos a encontrarle un cero\n",
    "def f(x):\n",
    "    return np.cos(x) - x\n",
    "\n",
    "\n",
    "f = np.frompyfunc(f, nin=1, nout=1)  # Convertirla en función estilo numpy\n",
    "\n",
    "# Establecer un corchete:\n",
    "(a, b) = (0, 1)\n",
    "\n",
    "# Inicializar un lienzo para graficar:\n",
    "fig, ax = plt.subplots()\n",
    "ax.spines[[\"bottom\"]].set_position((\"data\", 0))  # Dibujar el eje x en y = 0.\n",
    "ax.spines[[\"top\", \"right\"]].set_visible(False)  # Quitar bordes sup. y der.\n",
    "\n",
    "# Graficar f(x)\n",
    "Δ = (b - a) * 0.1\n",
    "x = np.linspace(a - Δ, b + Δ)\n",
    "y = f(x)\n",
    "ax.plot(x, y, label=\"$f(x)$\")\n",
    "\n",
    "# Graficar la interpolación lineal:\n",
    "x0, x1 = a, b\n",
    "y0, y1 = f([a, b])\n",
    "y_linea = (y1 - y0)/(x1 - x0)*(x - x0) + y0\n",
    "ax.plot(x, y_linea, label=\"Interpolación lineal\")\n",
    "x2 = x0 - y0 * (x1 - x0) / (y1 - y0)\n",
    "\n",
    "# Graficar puntos de interés:\n",
    "ax.plot([x0, x1], [y0, y1], \"o\", label=\"Corchete\")\n",
    "ax.plot([x2], [0], \"o\", label=\"Estimación del cero de $f$\")\n",
    "\n",
    "# Retocar la gráfica:\n",
    "ax.legend()  # Colocar la leyenda\n",
    "fig.tight_layout()  # Ajustar la figura\n"
   ]
  },
  {
   "cell_type": "code",
   "execution_count": 9,
   "id": "844c2489",
   "metadata": {},
   "outputs": [],
   "source": [
    "def posicion_falsa(f, a, b, ε):\n",
    "    x = [a, b]\n",
    "    while b - a > ε:\n",
    "        y_a, y_b = f(a), f(b)\n",
    "        m = a - y_a * (b - a) / (y_b - y_a)\n",
    "        y_m = f(m)\n",
    "        x.append(m)\n",
    "        if y_a * y_m < 0:\n",
    "            b = m\n",
    "        else:\n",
    "            a = m\n",
    "    return x"
   ]
  },
  {
   "cell_type": "code",
   "execution_count": 10,
   "id": "fd838baf",
   "metadata": {},
   "outputs": [
    {
     "data": {
      "text/plain": [
       "[1,\n",
       " 2,\n",
       " 1.3333333333333333,\n",
       " 1.4,\n",
       " 1.411764705882353,\n",
       " 1.4137931034482758,\n",
       " 1.4141414141414141,\n",
       " 1.4142011834319528,\n",
       " 1.41421143847487,\n",
       " 1.4142131979695431,\n",
       " 1.4142134998513232,\n",
       " 1.4142135516460548,\n",
       " 1.4142135605326258,\n",
       " 1.4142135620573204,\n",
       " 1.4142135623189167,\n",
       " 1.4142135623637995,\n",
       " 1.4142135623715002,\n",
       " 1.4142135623728214,\n",
       " 1.414213562373048,\n",
       " 1.414213562373087,\n",
       " 1.4142135623730936,\n",
       " 1.414213562373095,\n",
       " 1.4142135623730951]"
      ]
     },
     "execution_count": 10,
     "metadata": {},
     "output_type": "execute_result"
    }
   ],
   "source": [
    "def f(x):\n",
    "    return x ** 2 - 2\n",
    "\n",
    "posicion_falsa(f, 1, 2, 10 ** -4)"
   ]
  },
  {
   "cell_type": "markdown",
   "id": "b407095f",
   "metadata": {},
   "source": [
    "Si nos olvidamos por un momento del requisito de tener un corchete, este mismo\n",
    "método aún es viable para estimar el cero de una función:"
   ]
  },
  {
   "cell_type": "code",
   "execution_count": 14,
   "id": "5b33cab1",
   "metadata": {},
   "outputs": [
    {
     "data": {
      "text/plain": [
       "[<matplotlib.lines.Line2D at 0x7f3085c53700>]"
      ]
     },
     "execution_count": 14,
     "metadata": {},
     "output_type": "execute_result"
    },
    {
     "data": {
      "image/png": "[encoded data removed]",
      "text/plain": [
       "<Figure size 432x288 with 1 Axes>"
      ]
     },
     "metadata": {
      "needs_background": "light"
     },
     "output_type": "display_data"
    }
   ],
   "source": [
    "# Inicializar un lienzo para graficar:\n",
    "fig, ax = plt.subplots()\n",
    "ax.spines[[\"bottom\"]].set_position((\"data\", 0))  # Dibujar el eje x en y = 0.\n",
    "ax.spines[[\"top\", \"right\"]].set_visible(False)  # Quitar bordes sup. y der.\n",
    "\n",
    "x = np.linspace(-.5, 1.5, 50)\n",
    "y = -x**2 + 1\n",
    "plt.plot(x, y)\n",
    "\n",
    "x0, x1 = -0.1, 0.8\n",
    "y0 = -x0**2 + 1 \n",
    "y1 = -x1**2 + 1\n",
    "plt.plot([x0, x1], [y0, y1], 'o')\n",
    "y = (y1 - y0)/(x1 - x0)*x + (y0 - ((y1 - y0)/(x1 - x0))*x0)\n",
    "plt.plot(x, y, '--')\n",
    "x2 = x0 - y0*(x1 - x0)/(y1 - y0)\n",
    "plt.plot([x2], [0], 'x')"
   ]
  },
  {
   "cell_type": "code",
   "execution_count": 16,
   "id": "e85cdcf0",
   "metadata": {},
   "outputs": [
    {
     "data": {
      "text/plain": [
       "[1,\n",
       " 2,\n",
       " 1.3333333333333333,\n",
       " 1.4,\n",
       " 1.4146341463414633,\n",
       " 1.41421143847487,\n",
       " 1.4142135620573204]"
      ]
     },
     "execution_count": 16,
     "metadata": {},
     "output_type": "execute_result"
    }
   ],
   "source": [
    "def secante(f, x_0, x_1, ε):\n",
    "    x = [x_0, x_1]\n",
    "    y = [f(x_0), f(x_1)]\n",
    "    while abs(x[-1] - x[-2]) > ε:\n",
    "        x.append(x[-2] - y[-2] * (x[-1] - x[-2]) / (y[-1] - y[-2]))\n",
    "        y.append(f(x[-1]))\n",
    "    return x\n",
    "\n",
    "\n",
    "secante(f, 1, 2, 10 ** -4)"
   ]
  },
  {
   "cell_type": "code",
   "execution_count": null,
   "id": "47918e94",
   "metadata": {},
   "outputs": [],
   "source": [
    "def f(x):\n",
    "    return x**2 - 2\n",
    "\n",
    "def df(x):\n",
    "    return 2*x\n",
    "\n",
    "def newton(f, df, x0, ε):\n",
    "    a = x0\n",
    "    b = x0\n",
    "    while True:\n",
    "        c = b - f(b)/df(b)\n",
    "        (a, b) = (b, c)\n",
    "        if abs(b - a) <= ε:\n",
    "            break\n",
    "    return b\n",
    "\n",
    "newton(f, df, 1, 10**-4)"
   ]
  },
  {
   "cell_type": "code",
   "execution_count": null,
   "id": "20a205ba",
   "metadata": {},
   "outputs": [],
   "source": [
    "x = [1.0]\n",
    "while True:\n",
    "    x.append(x[-1] - f(x[-1])/df(x[-1]))\n",
    "    if abs(x[-1] - x[-2]) <= 10**-4:\n",
    "        break\n",
    "print(x)"
   ]
  },
  {
   "cell_type": "code",
   "execution_count": null,
   "id": "72e95858",
   "metadata": {},
   "outputs": [],
   "source": []
  }
 ],
 "metadata": {
  "kernelspec": {
   "display_name": "Python 3.9.12 ('base')",
   "language": "python",
   "name": "python3"
  },
  "language_info": {
   "codemirror_mode": {
    "name": "ipython",
    "version": 3
   },
   "file_extension": ".py",
   "mimetype": "text/x-python",
   "name": "python",
   "nbconvert_exporter": "python",
   "pygments_lexer": "ipython3",
   "version": "3.9.12"
  },
  "vscode": {
   "interpreter": {
    "hash": "d4d1e4263499bec80672ea0156c357c1ee493ec2b1c70f0acce89fc37c4a6abe"
   }
  }
 },
 "nbformat": 4,
 "nbformat_minor": 5
}
