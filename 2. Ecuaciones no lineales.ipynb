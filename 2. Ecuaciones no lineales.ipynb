{
 "cells": [
  {
   "cell_type": "code",
   "execution_count": 2,
   "id": "be1e674b-c280-42be-b265-6a1436f3ed43",
   "metadata": {},
   "outputs": [],
   "source": [
    "import matplotlib.pyplot as plt\n",
    "import numpy as np\n",
    "import pandas as pd\n"
   ]
  },
  {
   "cell_type": "markdown",
   "id": "49cd1219-6930-4ab0-a49c-b21516e87747",
   "metadata": {},
   "source": [
    "# 2. Ecuaciones no lineales"
   ]
  },
  {
   "cell_type": "markdown",
   "id": "ac6e80b0-a606-4203-b1aa-2fd65fa11b94",
   "metadata": {},
   "source": [
    "## Graficación"
   ]
  },
  {
   "cell_type": "markdown",
   "id": "dc8829cd-3cf0-47bf-a4cb-b03a1c5f2491",
   "metadata": {},
   "source": [
    "Para graficar una función $f:\\mathbb{R} \\to \\mathbb{R}$ en un intervalo $[a, b]$\n",
    "tomamos una sucesión de $n + 1$ puntos uniformemente distanciados:\n",
    "$$a = x_0, x_0 + h, x_0 + 2\\,h + x_0 + 3\\,h, \\ldots, x_0 + n\\,h = b$$"
   ]
  },
  {
   "cell_type": "markdown",
   "id": "41191fb2-02a3-4337-b5b7-c266a09f9702",
   "metadata": {},
   "source": [
    "`linspace(a, b, n)` de numpy genera esta lista de $n$ puntos en el intervalo $[a, b]$ a una distancia $h = \\frac{b - a}{n - 1}$:"
   ]
  },
  {
   "cell_type": "code",
   "execution_count": 20,
   "id": "36e72e7a-17a8-4a01-8715-8487f3d3de31",
   "metadata": {},
   "outputs": [
    {
     "data": {
      "text/plain": [
       "array([1. , 1.1, 1.2, 1.3, 1.4, 1.5, 1.6, 1.7, 1.8, 1.9, 2. ])"
      ]
     },
     "execution_count": 20,
     "metadata": {},
     "output_type": "execute_result"
    }
   ],
   "source": [
    "x = np.linspace(1, 2, 11)\n",
    "x"
   ]
  },
  {
   "cell_type": "code",
   "execution_count": 21,
   "id": "4a20866a-d4d6-4098-969e-eca089530414",
   "metadata": {},
   "outputs": [
    {
     "data": {
      "text/plain": [
       "1.8"
      ]
     },
     "execution_count": 21,
     "metadata": {},
     "output_type": "execute_result"
    }
   ],
   "source": [
    "x[8]"
   ]
  },
  {
   "cell_type": "code",
   "execution_count": 22,
   "id": "3cb7a052-b2fd-43ed-b23e-d48b4be2314f",
   "metadata": {},
   "outputs": [
    {
     "data": {
      "text/plain": [
       "array([-1.  , -0.79, -0.56, -0.31, -0.04,  0.25,  0.56,  0.89,  1.24,\n",
       "        1.61,  2.  ])"
      ]
     },
     "execution_count": 22,
     "metadata": {},
     "output_type": "execute_result"
    }
   ],
   "source": [
    "y = x**2 - 2\n",
    "y"
   ]
  },
  {
   "cell_type": "code",
   "execution_count": 23,
   "id": "ae4c71f4-2510-4a12-8b7c-ba9ddc695618",
   "metadata": {},
   "outputs": [
    {
     "data": {
      "text/plain": [
       "[<matplotlib.lines.Line2D at 0x7fb82cd49370>]"
      ]
     },
     "execution_count": 23,
     "metadata": {},
     "output_type": "execute_result"
    },
    {
     "data": {
      "image/png": "[encoded data removed]",
      "text/plain": [
       "<Figure size 432x288 with 1 Axes>"
      ]
     },
     "metadata": {
      "needs_background": "light"
     },
     "output_type": "display_data"
    }
   ],
   "source": [
    "plt.plot(x, y)"
   ]
  },
  {
   "cell_type": "markdown",
   "id": "d09d2a2d-47c2-437b-8c68-023233a5d53a",
   "metadata": {},
   "source": [
    "## Método de la bisección y variantes\n",
    "**Definción** Un *corchete* $[a, b]$ para una función $f:\\mathbb{R} \\to \\mathbb{R}$ es un intervalo tal que $f(a)\\,f(b) < 0$."
   ]
  },
  {
   "cell_type": "markdown",
   "id": "8b1d5911-f742-4c14-88ab-0f3e7650a7c2",
   "metadata": {},
   "source": [
    "**Ejemplo** $[1, 2]$ es un corchete de $f(x) = x^2 - 2$, puesto que $f(1) = -1$ y $f(2) = 2$."
   ]
  },
  {
   "cell_type": "code",
   "execution_count": 7,
   "id": "62f42bb0-d3b6-45ea-8aaf-80ec7c5fa48c",
   "metadata": {},
   "outputs": [],
   "source": [
    "def f(x):\n",
    "    return x**2 - 2"
   ]
  },
  {
   "cell_type": "code",
   "execution_count": 12,
   "id": "b3c87a77-002e-448f-bc12-d0443e719add",
   "metadata": {},
   "outputs": [],
   "source": [
    "(a, b) = (1, 2)\n",
    "eps = 10**-4\n",
    "renglones = []\n",
    "while b - a > eps:\n",
    "    m = (a + b)/2\n",
    "    renglones.append((a, b, m, f(m)))\n",
    "    if f(a) * f(m) < 0:\n",
    "        b = m\n",
    "    else:\n",
    "        a = m"
   ]
  },
  {
   "cell_type": "code",
   "execution_count": 13,
   "id": "b35adae0-4a68-4ba3-aadf-33469c864971",
   "metadata": {},
   "outputs": [
    {
     "data": {
      "text/html": [
       "<div>\n",
       "<style scoped>\n",
       "    .dataframe tbody tr th:only-of-type {\n",
       "        vertical-align: middle;\n",
       "    }\n",
       "\n",
       "    .dataframe tbody tr th {\n",
       "        vertical-align: top;\n",
       "    }\n",
       "\n",
       "    .dataframe thead th {\n",
       "        text-align: right;\n",
       "    }\n",
       "</style>\n",
       "<table border=\"1\" class=\"dataframe\">\n",
       "  <thead>\n",
       "    <tr style=\"text-align: right;\">\n",
       "      <th></th>\n",
       "      <th>a</th>\n",
       "      <th>b</th>\n",
       "      <th>m</th>\n",
       "      <th>f(m)</th>\n",
       "    </tr>\n",
       "  </thead>\n",
       "  <tbody>\n",
       "    <tr>\n",
       "      <th>0</th>\n",
       "      <td>1.000000</td>\n",
       "      <td>2.000000</td>\n",
       "      <td>1.500000</td>\n",
       "      <td>0.250000</td>\n",
       "    </tr>\n",
       "    <tr>\n",
       "      <th>1</th>\n",
       "      <td>1.000000</td>\n",
       "      <td>1.500000</td>\n",
       "      <td>1.250000</td>\n",
       "      <td>-0.437500</td>\n",
       "    </tr>\n",
       "    <tr>\n",
       "      <th>2</th>\n",
       "      <td>1.250000</td>\n",
       "      <td>1.500000</td>\n",
       "      <td>1.375000</td>\n",
       "      <td>-0.109375</td>\n",
       "    </tr>\n",
       "    <tr>\n",
       "      <th>3</th>\n",
       "      <td>1.375000</td>\n",
       "      <td>1.500000</td>\n",
       "      <td>1.437500</td>\n",
       "      <td>0.066406</td>\n",
       "    </tr>\n",
       "    <tr>\n",
       "      <th>4</th>\n",
       "      <td>1.375000</td>\n",
       "      <td>1.437500</td>\n",
       "      <td>1.406250</td>\n",
       "      <td>-0.022461</td>\n",
       "    </tr>\n",
       "    <tr>\n",
       "      <th>5</th>\n",
       "      <td>1.406250</td>\n",
       "      <td>1.437500</td>\n",
       "      <td>1.421875</td>\n",
       "      <td>0.021729</td>\n",
       "    </tr>\n",
       "    <tr>\n",
       "      <th>6</th>\n",
       "      <td>1.406250</td>\n",
       "      <td>1.421875</td>\n",
       "      <td>1.414062</td>\n",
       "      <td>-0.000427</td>\n",
       "    </tr>\n",
       "    <tr>\n",
       "      <th>7</th>\n",
       "      <td>1.414062</td>\n",
       "      <td>1.421875</td>\n",
       "      <td>1.417969</td>\n",
       "      <td>0.010635</td>\n",
       "    </tr>\n",
       "    <tr>\n",
       "      <th>8</th>\n",
       "      <td>1.414062</td>\n",
       "      <td>1.417969</td>\n",
       "      <td>1.416016</td>\n",
       "      <td>0.005100</td>\n",
       "    </tr>\n",
       "    <tr>\n",
       "      <th>9</th>\n",
       "      <td>1.414062</td>\n",
       "      <td>1.416016</td>\n",
       "      <td>1.415039</td>\n",
       "      <td>0.002336</td>\n",
       "    </tr>\n",
       "    <tr>\n",
       "      <th>10</th>\n",
       "      <td>1.414062</td>\n",
       "      <td>1.415039</td>\n",
       "      <td>1.414551</td>\n",
       "      <td>0.000954</td>\n",
       "    </tr>\n",
       "    <tr>\n",
       "      <th>11</th>\n",
       "      <td>1.414062</td>\n",
       "      <td>1.414551</td>\n",
       "      <td>1.414307</td>\n",
       "      <td>0.000263</td>\n",
       "    </tr>\n",
       "    <tr>\n",
       "      <th>12</th>\n",
       "      <td>1.414062</td>\n",
       "      <td>1.414307</td>\n",
       "      <td>1.414185</td>\n",
       "      <td>-0.000082</td>\n",
       "    </tr>\n",
       "    <tr>\n",
       "      <th>13</th>\n",
       "      <td>1.414185</td>\n",
       "      <td>1.414307</td>\n",
       "      <td>1.414246</td>\n",
       "      <td>0.000091</td>\n",
       "    </tr>\n",
       "  </tbody>\n",
       "</table>\n",
       "</div>"
      ],
      "text/plain": [
       "           a         b         m      f(m)\n",
       "0   1.000000  2.000000  1.500000  0.250000\n",
       "1   1.000000  1.500000  1.250000 -0.437500\n",
       "2   1.250000  1.500000  1.375000 -0.109375\n",
       "3   1.375000  1.500000  1.437500  0.066406\n",
       "4   1.375000  1.437500  1.406250 -0.022461\n",
       "5   1.406250  1.437500  1.421875  0.021729\n",
       "6   1.406250  1.421875  1.414062 -0.000427\n",
       "7   1.414062  1.421875  1.417969  0.010635\n",
       "8   1.414062  1.417969  1.416016  0.005100\n",
       "9   1.414062  1.416016  1.415039  0.002336\n",
       "10  1.414062  1.415039  1.414551  0.000954\n",
       "11  1.414062  1.414551  1.414307  0.000263\n",
       "12  1.414062  1.414307  1.414185 -0.000082\n",
       "13  1.414185  1.414307  1.414246  0.000091"
      ]
     },
     "execution_count": 13,
     "metadata": {},
     "output_type": "execute_result"
    }
   ],
   "source": [
    "pd.DataFrame.from_records(renglones, columns=[\"a\", \"b\", \"m\", \"f(m)\"])"
   ]
  },
  {
   "cell_type": "code",
   "execution_count": 18,
   "id": "6c5d0ea4-bc17-48ba-87e9-88e515ef8201",
   "metadata": {},
   "outputs": [],
   "source": [
    "def biseccion(f, a, b, ε):\n",
    "    while b - a > ε:\n",
    "        m = (a + b)/2\n",
    "        if f(a) * f(m) < 0:\n",
    "            b = m\n",
    "        else:\n",
    "            a = m\n",
    "    return (a + b)/2"
   ]
  },
  {
   "cell_type": "code",
   "execution_count": 17,
   "id": "c5b45301",
   "metadata": {},
   "outputs": [
    {
     "data": {
      "text/plain": [
       "<function __main__.g(x)>"
      ]
     },
     "execution_count": 17,
     "metadata": {},
     "output_type": "execute_result"
    }
   ],
   "source": [
    "import math\n",
    "def g(x):\n",
    "    return math.cos(x) - x\n",
    "\n",
    "g"
   ]
  },
  {
   "cell_type": "code",
   "execution_count": 16,
   "id": "8ab992c5",
   "metadata": {},
   "outputs": [
    {
     "data": {
      "text/plain": [
       "0.739105224609375"
      ]
     },
     "execution_count": 16,
     "metadata": {},
     "output_type": "execute_result"
    }
   ],
   "source": [
    "biseccion(g, 0, 1, 10**-4)"
   ]
  },
  {
   "cell_type": "code",
   "execution_count": 19,
   "id": "78336aee",
   "metadata": {},
   "outputs": [
    {
     "data": {
      "text/html": [
       "<div>\n",
       "<style scoped>\n",
       "    .dataframe tbody tr th:only-of-type {\n",
       "        vertical-align: middle;\n",
       "    }\n",
       "\n",
       "    .dataframe tbody tr th {\n",
       "        vertical-align: top;\n",
       "    }\n",
       "\n",
       "    .dataframe thead th {\n",
       "        text-align: right;\n",
       "    }\n",
       "</style>\n",
       "<table border=\"1\" class=\"dataframe\">\n",
       "  <thead>\n",
       "    <tr style=\"text-align: right;\">\n",
       "      <th></th>\n",
       "      <th>a</th>\n",
       "      <th>b</th>\n",
       "      <th>m</th>\n",
       "      <th>f(m)</th>\n",
       "    </tr>\n",
       "  </thead>\n",
       "  <tbody>\n",
       "    <tr>\n",
       "      <th>0</th>\n",
       "      <td>1.000000</td>\n",
       "      <td>2</td>\n",
       "      <td>1.333333</td>\n",
       "      <td>-2.222222e-01</td>\n",
       "    </tr>\n",
       "    <tr>\n",
       "      <th>1</th>\n",
       "      <td>1.333333</td>\n",
       "      <td>2</td>\n",
       "      <td>1.400000</td>\n",
       "      <td>-4.000000e-02</td>\n",
       "    </tr>\n",
       "    <tr>\n",
       "      <th>2</th>\n",
       "      <td>1.400000</td>\n",
       "      <td>2</td>\n",
       "      <td>1.411765</td>\n",
       "      <td>-6.920415e-03</td>\n",
       "    </tr>\n",
       "    <tr>\n",
       "      <th>3</th>\n",
       "      <td>1.411765</td>\n",
       "      <td>2</td>\n",
       "      <td>1.413793</td>\n",
       "      <td>-1.189061e-03</td>\n",
       "    </tr>\n",
       "    <tr>\n",
       "      <th>4</th>\n",
       "      <td>1.413793</td>\n",
       "      <td>2</td>\n",
       "      <td>1.414141</td>\n",
       "      <td>-2.040608e-04</td>\n",
       "    </tr>\n",
       "    <tr>\n",
       "      <th>5</th>\n",
       "      <td>1.414141</td>\n",
       "      <td>2</td>\n",
       "      <td>1.414201</td>\n",
       "      <td>-3.501278e-05</td>\n",
       "    </tr>\n",
       "    <tr>\n",
       "      <th>6</th>\n",
       "      <td>1.414201</td>\n",
       "      <td>2</td>\n",
       "      <td>1.414211</td>\n",
       "      <td>-6.007287e-06</td>\n",
       "    </tr>\n",
       "    <tr>\n",
       "      <th>7</th>\n",
       "      <td>1.414211</td>\n",
       "      <td>2</td>\n",
       "      <td>1.414213</td>\n",
       "      <td>-1.030689e-06</td>\n",
       "    </tr>\n",
       "    <tr>\n",
       "      <th>8</th>\n",
       "      <td>1.414213</td>\n",
       "      <td>2</td>\n",
       "      <td>1.414213</td>\n",
       "      <td>-1.768383e-07</td>\n",
       "    </tr>\n",
       "    <tr>\n",
       "      <th>9</th>\n",
       "      <td>1.414213</td>\n",
       "      <td>2</td>\n",
       "      <td>1.414214</td>\n",
       "      <td>-3.034065e-08</td>\n",
       "    </tr>\n",
       "    <tr>\n",
       "      <th>10</th>\n",
       "      <td>1.414214</td>\n",
       "      <td>2</td>\n",
       "      <td>1.414214</td>\n",
       "      <td>-5.205633e-09</td>\n",
       "    </tr>\n",
       "    <tr>\n",
       "      <th>11</th>\n",
       "      <td>1.414214</td>\n",
       "      <td>2</td>\n",
       "      <td>1.414214</td>\n",
       "      <td>-8.931456e-10</td>\n",
       "    </tr>\n",
       "    <tr>\n",
       "      <th>12</th>\n",
       "      <td>1.414214</td>\n",
       "      <td>2</td>\n",
       "      <td>1.414214</td>\n",
       "      <td>-1.532394e-10</td>\n",
       "    </tr>\n",
       "    <tr>\n",
       "      <th>13</th>\n",
       "      <td>1.414214</td>\n",
       "      <td>2</td>\n",
       "      <td>1.414214</td>\n",
       "      <td>-2.629186e-11</td>\n",
       "    </tr>\n",
       "    <tr>\n",
       "      <th>14</th>\n",
       "      <td>1.414214</td>\n",
       "      <td>2</td>\n",
       "      <td>1.414214</td>\n",
       "      <td>-4.510836e-12</td>\n",
       "    </tr>\n",
       "    <tr>\n",
       "      <th>15</th>\n",
       "      <td>1.414214</td>\n",
       "      <td>2</td>\n",
       "      <td>1.414214</td>\n",
       "      <td>-7.740475e-13</td>\n",
       "    </tr>\n",
       "    <tr>\n",
       "      <th>16</th>\n",
       "      <td>1.414214</td>\n",
       "      <td>2</td>\n",
       "      <td>1.414214</td>\n",
       "      <td>-1.327827e-13</td>\n",
       "    </tr>\n",
       "    <tr>\n",
       "      <th>17</th>\n",
       "      <td>1.414214</td>\n",
       "      <td>2</td>\n",
       "      <td>1.414214</td>\n",
       "      <td>-2.287059e-14</td>\n",
       "    </tr>\n",
       "    <tr>\n",
       "      <th>18</th>\n",
       "      <td>1.414214</td>\n",
       "      <td>2</td>\n",
       "      <td>1.414214</td>\n",
       "      <td>-4.218847e-15</td>\n",
       "    </tr>\n",
       "    <tr>\n",
       "      <th>19</th>\n",
       "      <td>1.414214</td>\n",
       "      <td>2</td>\n",
       "      <td>1.414214</td>\n",
       "      <td>-4.440892e-16</td>\n",
       "    </tr>\n",
       "    <tr>\n",
       "      <th>20</th>\n",
       "      <td>1.414214</td>\n",
       "      <td>2</td>\n",
       "      <td>1.414214</td>\n",
       "      <td>4.440892e-16</td>\n",
       "    </tr>\n",
       "  </tbody>\n",
       "</table>\n",
       "</div>"
      ],
      "text/plain": [
       "           a  b         m          f(m)\n",
       "0   1.000000  2  1.333333 -2.222222e-01\n",
       "1   1.333333  2  1.400000 -4.000000e-02\n",
       "2   1.400000  2  1.411765 -6.920415e-03\n",
       "3   1.411765  2  1.413793 -1.189061e-03\n",
       "4   1.413793  2  1.414141 -2.040608e-04\n",
       "5   1.414141  2  1.414201 -3.501278e-05\n",
       "6   1.414201  2  1.414211 -6.007287e-06\n",
       "7   1.414211  2  1.414213 -1.030689e-06\n",
       "8   1.414213  2  1.414213 -1.768383e-07\n",
       "9   1.414213  2  1.414214 -3.034065e-08\n",
       "10  1.414214  2  1.414214 -5.205633e-09\n",
       "11  1.414214  2  1.414214 -8.931456e-10\n",
       "12  1.414214  2  1.414214 -1.532394e-10\n",
       "13  1.414214  2  1.414214 -2.629186e-11\n",
       "14  1.414214  2  1.414214 -4.510836e-12\n",
       "15  1.414214  2  1.414214 -7.740475e-13\n",
       "16  1.414214  2  1.414214 -1.327827e-13\n",
       "17  1.414214  2  1.414214 -2.287059e-14\n",
       "18  1.414214  2  1.414214 -4.218847e-15\n",
       "19  1.414214  2  1.414214 -4.440892e-16\n",
       "20  1.414214  2  1.414214  4.440892e-16"
      ]
     },
     "execution_count": 19,
     "metadata": {},
     "output_type": "execute_result"
    }
   ],
   "source": [
    "(a, b, ε) = (1, 2, 10**-4)\n",
    "renglones = []\n",
    "while b - a > ε:\n",
    "    m = a - f(a)*(b - a)/(f(b) - f(a))\n",
    "    renglones.append((a, b, m, f(m)))\n",
    "    if f(a) * f(m) < 0:\n",
    "        b = m\n",
    "    else:\n",
    "        a = m\n",
    "pd.DataFrame.from_records(renglones, columns=[\"a\", \"b\", \"m\", \"f(m)\"])"
   ]
  },
  {
   "cell_type": "code",
   "execution_count": 24,
   "id": "06cdcd5a",
   "metadata": {},
   "outputs": [],
   "source": [
    "def regula_falsi(f, a, b, ε):\n",
    "    while b - a > eps:\n",
    "        m = a - f(a)*(b - a)/(f(b) - f(a))\n",
    "        if f(a) * f(m) < 0:\n",
    "            b = m\n",
    "        else:\n",
    "            a = m\n",
    "    return (a + b)/2"
   ]
  },
  {
   "cell_type": "code",
   "execution_count": 25,
   "id": "d3e14e14",
   "metadata": {},
   "outputs": [
    {
     "data": {
      "text/plain": [
       "1.414213562373095"
      ]
     },
     "execution_count": 25,
     "metadata": {},
     "output_type": "execute_result"
    }
   ],
   "source": [
    "regula_falsi(f, 1, 2, 10**-4)"
   ]
  },
  {
   "cell_type": "code",
   "execution_count": null,
   "id": "5b33cab1",
   "metadata": {},
   "outputs": [],
   "source": []
  }
 ],
 "metadata": {
  "kernelspec": {
   "display_name": "Python 3.9.7 ('base')",
   "language": "python",
   "name": "python3"
  },
  "language_info": {
   "codemirror_mode": {
    "name": "ipython",
    "version": 3
   },
   "file_extension": ".py",
   "mimetype": "text/x-python",
   "name": "python",
   "nbconvert_exporter": "python",
   "pygments_lexer": "ipython3",
   "version": "3.9.7"
  },
  "vscode": {
   "interpreter": {
    "hash": "7cd63e190dc5f586c5c68b589eebb688ef9b62d848089d068546e0fdc050e4f0"
   }
  }
 },
 "nbformat": 4,
 "nbformat_minor": 5
}
